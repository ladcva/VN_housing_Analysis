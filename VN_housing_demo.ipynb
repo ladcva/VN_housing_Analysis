{
 "cells": [
  {
   "cell_type": "code",
   "execution_count": 1,
   "metadata": {},
   "outputs": [],
   "source": [
    "import pandas as pd"
   ]
  },
  {
   "cell_type": "code",
   "execution_count": 2,
   "metadata": {},
   "outputs": [
    {
     "name": "stdout",
     "output_type": "stream",
     "text": [
      "      Số phòng ngủ Diện tích           Giá/m2\n",
      "0          5 phòng     46 m²   86,96 triệu/m²\n",
      "1          3 phòng     37 m²  116,22 triệu/m²\n",
      "2          4 phòng     40 m²      65 triệu/m²\n",
      "3          6 phòng     51 m²     100 triệu/m²\n",
      "4          4 phòng     36 m²   86,11 triệu/m²\n",
      "...            ...       ...              ...\n",
      "82492      3 phòng     50 m²     292 triệu/m²\n",
      "82493      4 phòng     41 m²  341,46 triệu/m²\n",
      "82494      4 phòng     60 m²  101,67 triệu/m²\n",
      "82495      4 phòng     45 m²  102,22 triệu/m²\n",
      "82496          NaN       NaN              NaN\n",
      "\n",
      "[82497 rows x 3 columns]\n"
     ]
    }
   ],
   "source": [
    "file_path = 'FetchHousingHN/VN_housing_dataset_cut.csv'\n",
    "data = pd.read_csv(file_path, index_col=0)\n",
    "\n",
    "print(data)"
   ]
  },
  {
   "cell_type": "code",
   "execution_count": 3,
   "metadata": {},
   "outputs": [
    {
     "name": "stdout",
     "output_type": "stream",
     "text": [
      "<class 'pandas.core.frame.DataFrame'>\n",
      "Int64Index: 82497 entries, 0 to 82496\n",
      "Data columns (total 3 columns):\n",
      " #   Column        Non-Null Count  Dtype \n",
      "---  ------        --------------  ----- \n",
      " 0   Số phòng ngủ  82458 non-null  object\n",
      " 1   Diện tích     82495 non-null  object\n",
      " 2   Giá/m2        82484 non-null  object\n",
      "dtypes: object(3)\n",
      "memory usage: 2.5+ MB\n",
      "None\n",
      "Index(['Số phòng ngủ', 'Diện tích', 'Giá/m2'], dtype='object')\n"
     ]
    }
   ],
   "source": [
    "print(data.info())\n",
    "print(data.columns)"
   ]
  }
 ],
 "metadata": {
  "kernelspec": {
   "display_name": "Python 3",
   "language": "python",
   "name": "python3"
  },
  "language_info": {
   "codemirror_mode": {
    "name": "ipython",
    "version": 3
   },
   "file_extension": ".py",
   "mimetype": "text/x-python",
   "name": "python",
   "nbconvert_exporter": "python",
   "pygments_lexer": "ipython3",
   "version": "3.8.6"
  }
 },
 "nbformat": 4,
 "nbformat_minor": 4
}
